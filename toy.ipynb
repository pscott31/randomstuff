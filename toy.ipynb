{
 "cells": [
  {
   "cell_type": "code",
   "execution_count": 13,
   "metadata": {},
   "outputs": [
    {
     "ename": "IndentationError",
     "evalue": "unexpected indent (3687736782.py, line 24)",
     "output_type": "error",
     "traceback": [
      "\u001b[0;36m  Cell \u001b[0;32mIn[13], line 24\u001b[0;36m\u001b[0m\n\u001b[0;31m    proto_enum = events_pb2.BusEventType\u001b[0m\n\u001b[0m    ^\u001b[0m\n\u001b[0;31mIndentationError\u001b[0m\u001b[0;31m:\u001b[0m unexpected indent\n"
     ]
    }
   ],
   "source": [
    "from vega.events.v1 import events_pb2 \n",
    "from enum import Enum, EnumType\n",
    "from google.protobuf import descriptor\n",
    "import inflection\n",
    "\n",
    "\n",
    "from enum import EnumMeta\n",
    "\n",
    "class CustomEnumMeta(EnumMeta):\n",
    "    def __new__(mcls, name, bases, attrs):\n",
    "        for proto_name, proto_value in attrs[\"proto_enum\"].items():\n",
    "            prefix = inflection.underscore(proto_enum.DESCRIPTOR.name).upper() + \"_\"\n",
    "            nice_name = name.replace(\"BUS_EVENT_TYPE_\", \"\").title().replace(\"_\", \"\")\n",
    "            attrs[nice_name] = value\n",
    "            attrs[f\"protobuf_{key}\"] = proto_name\n",
    "\n",
    "        # Call parent's __new__\n",
    "        return super().__new__(mcls, name, bases, attrs)\n",
    "\n",
    "    def __str__(cls):\n",
    "        return f\"Custom str for {cls.__name__}\"\n",
    "\n",
    "class CustomEnum(str, Enum, metaclass=CustomEnumMeta):d\n",
    "    proto_enum = events_pb2.BusEventType\n",
    "    def __str__(self):\n",
    "        return f\"Custom str for {self.name}\"\n",
    "\n",
    "MyEnum = CustomEnumMeta('MyEnum', (CustomEnum,), events_pb2.BusEventTyped)\n",
    "\n",
    "print(str(MyEnum.A))  # Output: \"Custom str for A\"\n",
    "    def __str__(self):\n",
    "        return f\"Custom str for {sef.name}\"\n",
    "\n",
    "MyEnum = CustomEnumMeta('MyEnum', (CustomEnum,), events_pb2.BusEventTyped)\n",
    "\n",
    "print(str(MyEnum.A))  # Output: \"Custom str for A\""
   ]
  },
  {
   "cell_type": "code",
   "execution_count": 6,
   "metadata": {},
   "outputs": [
    {
     "name": "stdout",
     "output_type": "stream",
     "text": [
      "<google.protobuf.internal.enum_type_wrapper.EnumTypeWrapper object at 0x7f85eac01a90>\n"
     ]
    }
   ],
   "source": [
    "from vega.events.v1 import events_pb2 \n",
    "events_pb2.BusEventType._enum_type.values_by_name[\"BUS_EVENT_TYPE_TRANSACTION_RESULT\"]\n",
    "foo=events_pb2.BusEventType\n",
    "print(foo)\n",
    "# (\"BUS_EVENT_TYPE_TRANSACTION_RESULT\")"
   ]
  },
  {
   "cell_type": "code",
   "execution_count": null,
   "metadata": {},
   "outputs": [
    {
     "data": {
      "text/html": [
       "<table>\n",
       "<thead>\n",
       "<tr><th>Name                                           </th><th>Gripe                  </th><th>Proposed                    </th><th>Current               </th></tr>\n",
       "</thead>\n",
       "<tbody>\n",
       "<tr><td>BUS_EVENT_TYPE_MARKET_TICK                     </td><td>mising from settings.py</td><td>MarketTick                  </td><td>                      </td></tr>\n",
       "<tr><td>BUS_EVENT_TYPE_ERC20_MULTI_SIG_SIGNER_EVENT    </td><td>named differently      </td><td>Erc20MultiSigSignerEvent    </td><td>ERC20SignerEvent      </td></tr>\n",
       "<tr><td>BUS_EVENT_TYPE_FUNDING_PERIOD                  </td><td>mising from settings.py</td><td>FundingPeriod               </td><td>                      </td></tr>\n",
       "<tr><td>BUS_EVENT_TYPE_FUNDING_PERIOD_DATA_POINT       </td><td>mising from settings.py</td><td>FundingPeriodDataPoint      </td><td>                      </td></tr>\n",
       "<tr><td>BUS_EVENT_TYPE_TEAM_UPDATED                    </td><td>mising from settings.py</td><td>TeamUpdated                 </td><td>                      </td></tr>\n",
       "<tr><td>BUS_EVENT_TYPE_TX_ERROR                        </td><td>named differently      </td><td>TxError                     </td><td>TxErrEvent            </td></tr>\n",
       "<tr><td>BUS_EVENT_TYPE_SETTLE_DISTRESSED               </td><td>named differently      </td><td>SettleDistressed            </td><td>Distressed            </td></tr>\n",
       "<tr><td>BUS_EVENT_TYPE_VOLUME_DISCOUNT_PROGRAM_STARTED </td><td>mising from settings.py</td><td>VolumeDiscountProgramStarted</td><td>                      </td></tr>\n",
       "<tr><td>BUS_EVENT_TYPE_SETTLE_POSITION                 </td><td>named differently      </td><td>SettlePosition              </td><td>PositionSettle        </td></tr>\n",
       "<tr><td>BUS_EVENT_TYPE_DELEGATION_BALANCE              </td><td>named differently      </td><td>DelegationBalance           </td><td>Delegation            </td></tr>\n",
       "<tr><td>BUS_EVENT_TYPE_ERC20_MULTI_SIG_SIGNER_REMOVED  </td><td>named differently      </td><td>Erc20MultiSigSignerRemoved  </td><td>ERC20SignerRemoveEvent</td></tr>\n",
       "<tr><td>BUS_EVENT_TYPE_REFEREE_SWITCHED_TEAM           </td><td>mising from settings.py</td><td>RefereeSwitchedTeam         </td><td>                      </td></tr>\n",
       "<tr><td>BUS_EVENT_TYPE_REFERRAL_SET_CREATED            </td><td>mising from settings.py</td><td>ReferralSetCreated          </td><td>                      </td></tr>\n",
       "<tr><td>BUS_EVENT_TYPE_MARKET                          </td><td>mising from settings.py</td><td>Market                      </td><td>                      </td></tr>\n",
       "<tr><td>BUS_EVENT_TYPE_VOLUME_DISCOUNT_PROGRAM_UPDATED </td><td>mising from settings.py</td><td>VolumeDiscountProgramUpdated</td><td>                      </td></tr>\n",
       "<tr><td>BUS_EVENT_TYPE_NODE_SIGNATURE                  </td><td>mising from settings.py</td><td>NodeSignature               </td><td>                      </td></tr>\n",
       "<tr><td>BUS_EVENT_TYPE_NETWORK_LIMITS                  </td><td>mising from settings.py</td><td>NetworkLimits               </td><td>                      </td></tr>\n",
       "<tr><td>BUS_EVENT_TYPE_REFERRAL_PROGRAM_UPDATED        </td><td>mising from settings.py</td><td>ReferralProgramUpdated      </td><td>                      </td></tr>\n",
       "<tr><td>BUS_EVENT_TYPE_REWARD_PAYOUT_EVENT             </td><td>named differently      </td><td>RewardPayoutEvent           </td><td>Rewards               </td></tr>\n",
       "<tr><td>BUS_EVENT_TYPE_ERC20_MULTI_SIG_SET_THRESHOLD   </td><td>mising from settings.py</td><td>Erc20MultiSigSetThreshold   </td><td>                      </td></tr>\n",
       "<tr><td>BUS_EVENT_TYPE_REFERRAL_SET_STATS_UPDATED      </td><td>mising from settings.py</td><td>ReferralSetStatsUpdated     </td><td>                      </td></tr>\n",
       "<tr><td>BUS_EVENT_TYPE_SPOT_LIQUIDITY_PROVISION        </td><td>mising from settings.py</td><td>SpotLiquidityProvision      </td><td>                      </td></tr>\n",
       "<tr><td>BUS_EVENT_TYPE_PARTY                           </td><td>mising from settings.py</td><td>Party                       </td><td>                      </td></tr>\n",
       "<tr><td>BUS_EVENT_TYPE_TIME_UPDATE                     </td><td>mising from settings.py</td><td>TimeUpdate                  </td><td>                      </td></tr>\n",
       "<tr><td>BUS_EVENT_TYPE_DISTRESSED_POSITIONS            </td><td>mising from settings.py</td><td>DistressedPositions         </td><td>                      </td></tr>\n",
       "<tr><td>BUS_EVENT_TYPE_REFERRAL_PROGRAM_STARTED        </td><td>mising from settings.py</td><td>ReferralProgramStarted      </td><td>                      </td></tr>\n",
       "<tr><td>BUS_EVENT_TYPE_STATE_VAR                       </td><td>mising from settings.py</td><td>StateVar                    </td><td>                      </td></tr>\n",
       "<tr><td>BUS_EVENT_TYPE_LIQUIDITY_PROVISION             </td><td>named differently      </td><td>LiquidityProvision          </td><td>LiqProvision          </td></tr>\n",
       "<tr><td>BUS_EVENT_TYPE_PROTOCOL_UPGRADE_DATA_NODE_READY</td><td>mising from settings.py</td><td>ProtocolUpgradeDataNodeReady</td><td>                      </td></tr>\n",
       "<tr><td>BUS_EVENT_TYPE_VOLUME_DISCOUNT_PROGRAM_ENDED   </td><td>mising from settings.py</td><td>VolumeDiscountProgramEnded  </td><td>                      </td></tr>\n",
       "<tr><td>BUS_EVENT_TYPE_MARGIN_LEVELS                   </td><td>named differently      </td><td>MarginLevels                </td><td>MarginLevs            </td></tr>\n",
       "<tr><td>BUS_EVENT_TYPE_LOSS_SOCIALIZATION              </td><td>mising from settings.py</td><td>LossSocialization           </td><td>                      </td></tr>\n",
       "<tr><td>BUS_EVENT_TYPE_POSITION_RESOLUTION             </td><td>named differently      </td><td>PositionResolution          </td><td>PositionRes           </td></tr>\n",
       "<tr><td>BUS_EVENT_TYPE_POSITION_STATE                  </td><td>mising from settings.py</td><td>PositionState               </td><td>                      </td></tr>\n",
       "<tr><td>BUS_EVENT_TYPE_STREAM_START                    </td><td>mising from settings.py</td><td>StreamStart                 </td><td>                      </td></tr>\n",
       "<tr><td>BUS_EVENT_TYPE_STAKE_LINKING                   </td><td>named differently      </td><td>StakeLinking                </td><td>Staking               </td></tr>\n",
       "<tr><td>BUS_EVENT_TYPE_END_BLOCK                       </td><td>mising from settings.py</td><td>EndBlock                    </td><td>                      </td></tr>\n",
       "<tr><td>BUS_EVENT_TYPE_PROTOCOL_UPGRADE_STARTED        </td><td>mising from settings.py</td><td>ProtocolUpgradeStarted      </td><td>                      </td></tr>\n",
       "<tr><td>BUS_EVENT_TYPE_REFERRAL_PROGRAM_ENDED          </td><td>mising from settings.py</td><td>ReferralProgramEnded        </td><td>                      </td></tr>\n",
       "<tr><td>BUS_EVENT_TYPE_REFEREE_JOINED_TEAM             </td><td>mising from settings.py</td><td>RefereeJoinedTeam           </td><td>                      </td></tr>\n",
       "<tr><td>BUS_EVENT_TYPE_ERC20_MULTI_SIG_SIGNER_ADDED    </td><td>named differently      </td><td>Erc20MultiSigSignerAdded    </td><td>ERC20SignerAddEvent   </td></tr>\n",
       "<tr><td>BUS_EVENT_TYPE_ASSET                           </td><td>mising from settings.py</td><td>Asset                       </td><td>                      </td></tr>\n",
       "<tr><td>BUS_EVENT_TYPE_LEDGER_MOVEMENTS                </td><td>named differently      </td><td>LedgerMovements             </td><td>Txfer                 </td></tr>\n",
       "<tr><td>BUS_EVENT_TYPE_PROTOCOL_UPGRADE_PROPOSAL       </td><td>mising from settings.py</td><td>ProtocolUpgradeProposal     </td><td>                      </td></tr>\n",
       "<tr><td>BUS_EVENT_TYPE_PARTY_ACTIVITY_STREAK           </td><td>mising from settings.py</td><td>PartyActivityStreak         </td><td>                      </td></tr>\n",
       "<tr><td>BUS_EVENT_TYPE_DISTRESSED_ORDERS_CLOSED        </td><td>mising from settings.py</td><td>DistressedOrdersClosed      </td><td>                      </td></tr>\n",
       "<tr><td>BUS_EVENT_TYPE_NETWORK_PARAMETER               </td><td>named differently      </td><td>NetworkParameter            </td><td>NetworkParam          </td></tr>\n",
       "<tr><td>BUS_EVENT_TYPE_CHECKPOINT                      </td><td>mising from settings.py</td><td>Checkpoint                  </td><td>                      </td></tr>\n",
       "<tr><td>BUS_EVENT_TYPE_REFEREE_JOINED_REFERRAL_SET     </td><td>mising from settings.py</td><td>RefereeJoinedReferralSet    </td><td>                      </td></tr>\n",
       "<tr><td>BUS_EVENT_TYPE_SNAPSHOT_TAKEN                  </td><td>mising from settings.py</td><td>SnapshotTaken               </td><td>                      </td></tr>\n",
       "<tr><td>BUS_EVENT_TYPE_TEAM_CREATED                    </td><td>mising from settings.py</td><td>TeamCreated                 </td><td>                      </td></tr>\n",
       "<tr><td>BUS_EVENT_TYPE_SETTLE_MARKET                   </td><td>mising from settings.py</td><td>SettleMarket                </td><td>                      </td></tr>\n",
       "</tbody>\n",
       "</table>"
      ],
      "text/plain": [
       "'<table>\\n<thead>\\n<tr><th>Name                                           </th><th>Gripe                  </th><th>Proposed                    </th><th>Current               </th></tr>\\n</thead>\\n<tbody>\\n<tr><td>BUS_EVENT_TYPE_MARKET_TICK                     </td><td>mising from settings.py</td><td>MarketTick                  </td><td>                      </td></tr>\\n<tr><td>BUS_EVENT_TYPE_ERC20_MULTI_SIG_SIGNER_EVENT    </td><td>named differently      </td><td>Erc20MultiSigSignerEvent    </td><td>ERC20SignerEvent      </td></tr>\\n<tr><td>BUS_EVENT_TYPE_FUNDING_PERIOD                  </td><td>mising from settings.py</td><td>FundingPeriod               </td><td>                      </td></tr>\\n<tr><td>BUS_EVENT_TYPE_FUNDING_PERIOD_DATA_POINT       </td><td>mising from settings.py</td><td>FundingPeriodDataPoint      </td><td>                      </td></tr>\\n<tr><td>BUS_EVENT_TYPE_TEAM_UPDATED                    </td><td>mising from settings.py</td><td>TeamUpdated                 </td><td>                      </td></tr>\\n<tr><td>BUS_EVENT_TYPE_TX_ERROR                        </td><td>named differently      </td><td>TxError                     </td><td>TxErrEvent            </td></tr>\\n<tr><td>BUS_EVENT_TYPE_SETTLE_DISTRESSED               </td><td>named differently      </td><td>SettleDistressed            </td><td>Distressed            </td></tr>\\n<tr><td>BUS_EVENT_TYPE_VOLUME_DISCOUNT_PROGRAM_STARTED </td><td>mising from settings.py</td><td>VolumeDiscountProgramStarted</td><td>                      </td></tr>\\n<tr><td>BUS_EVENT_TYPE_SETTLE_POSITION                 </td><td>named differently      </td><td>SettlePosition              </td><td>PositionSettle        </td></tr>\\n<tr><td>BUS_EVENT_TYPE_DELEGATION_BALANCE              </td><td>named differently      </td><td>DelegationBalance           </td><td>Delegation            </td></tr>\\n<tr><td>BUS_EVENT_TYPE_ERC20_MULTI_SIG_SIGNER_REMOVED  </td><td>named differently      </td><td>Erc20MultiSigSignerRemoved  </td><td>ERC20SignerRemoveEvent</td></tr>\\n<tr><td>BUS_EVENT_TYPE_REFEREE_SWITCHED_TEAM           </td><td>mising from settings.py</td><td>RefereeSwitchedTeam         </td><td>                      </td></tr>\\n<tr><td>BUS_EVENT_TYPE_REFERRAL_SET_CREATED            </td><td>mising from settings.py</td><td>ReferralSetCreated          </td><td>                      </td></tr>\\n<tr><td>BUS_EVENT_TYPE_MARKET                          </td><td>mising from settings.py</td><td>Market                      </td><td>                      </td></tr>\\n<tr><td>BUS_EVENT_TYPE_VOLUME_DISCOUNT_PROGRAM_UPDATED </td><td>mising from settings.py</td><td>VolumeDiscountProgramUpdated</td><td>                      </td></tr>\\n<tr><td>BUS_EVENT_TYPE_NODE_SIGNATURE                  </td><td>mising from settings.py</td><td>NodeSignature               </td><td>                      </td></tr>\\n<tr><td>BUS_EVENT_TYPE_NETWORK_LIMITS                  </td><td>mising from settings.py</td><td>NetworkLimits               </td><td>                      </td></tr>\\n<tr><td>BUS_EVENT_TYPE_REFERRAL_PROGRAM_UPDATED        </td><td>mising from settings.py</td><td>ReferralProgramUpdated      </td><td>                      </td></tr>\\n<tr><td>BUS_EVENT_TYPE_REWARD_PAYOUT_EVENT             </td><td>named differently      </td><td>RewardPayoutEvent           </td><td>Rewards               </td></tr>\\n<tr><td>BUS_EVENT_TYPE_ERC20_MULTI_SIG_SET_THRESHOLD   </td><td>mising from settings.py</td><td>Erc20MultiSigSetThreshold   </td><td>                      </td></tr>\\n<tr><td>BUS_EVENT_TYPE_REFERRAL_SET_STATS_UPDATED      </td><td>mising from settings.py</td><td>ReferralSetStatsUpdated     </td><td>                      </td></tr>\\n<tr><td>BUS_EVENT_TYPE_SPOT_LIQUIDITY_PROVISION        </td><td>mising from settings.py</td><td>SpotLiquidityProvision      </td><td>                      </td></tr>\\n<tr><td>BUS_EVENT_TYPE_PARTY                           </td><td>mising from settings.py</td><td>Party                       </td><td>                      </td></tr>\\n<tr><td>BUS_EVENT_TYPE_TIME_UPDATE                     </td><td>mising from settings.py</td><td>TimeUpdate                  </td><td>                      </td></tr>\\n<tr><td>BUS_EVENT_TYPE_DISTRESSED_POSITIONS            </td><td>mising from settings.py</td><td>DistressedPositions         </td><td>                      </td></tr>\\n<tr><td>BUS_EVENT_TYPE_REFERRAL_PROGRAM_STARTED        </td><td>mising from settings.py</td><td>ReferralProgramStarted      </td><td>                      </td></tr>\\n<tr><td>BUS_EVENT_TYPE_STATE_VAR                       </td><td>mising from settings.py</td><td>StateVar                    </td><td>                      </td></tr>\\n<tr><td>BUS_EVENT_TYPE_LIQUIDITY_PROVISION             </td><td>named differently      </td><td>LiquidityProvision          </td><td>LiqProvision          </td></tr>\\n<tr><td>BUS_EVENT_TYPE_PROTOCOL_UPGRADE_DATA_NODE_READY</td><td>mising from settings.py</td><td>ProtocolUpgradeDataNodeReady</td><td>                      </td></tr>\\n<tr><td>BUS_EVENT_TYPE_VOLUME_DISCOUNT_PROGRAM_ENDED   </td><td>mising from settings.py</td><td>VolumeDiscountProgramEnded  </td><td>                      </td></tr>\\n<tr><td>BUS_EVENT_TYPE_MARGIN_LEVELS                   </td><td>named differently      </td><td>MarginLevels                </td><td>MarginLevs            </td></tr>\\n<tr><td>BUS_EVENT_TYPE_LOSS_SOCIALIZATION              </td><td>mising from settings.py</td><td>LossSocialization           </td><td>                      </td></tr>\\n<tr><td>BUS_EVENT_TYPE_POSITION_RESOLUTION             </td><td>named differently      </td><td>PositionResolution          </td><td>PositionRes           </td></tr>\\n<tr><td>BUS_EVENT_TYPE_POSITION_STATE                  </td><td>mising from settings.py</td><td>PositionState               </td><td>                      </td></tr>\\n<tr><td>BUS_EVENT_TYPE_STREAM_START                    </td><td>mising from settings.py</td><td>StreamStart                 </td><td>                      </td></tr>\\n<tr><td>BUS_EVENT_TYPE_STAKE_LINKING                   </td><td>named differently      </td><td>StakeLinking                </td><td>Staking               </td></tr>\\n<tr><td>BUS_EVENT_TYPE_END_BLOCK                       </td><td>mising from settings.py</td><td>EndBlock                    </td><td>                      </td></tr>\\n<tr><td>BUS_EVENT_TYPE_PROTOCOL_UPGRADE_STARTED        </td><td>mising from settings.py</td><td>ProtocolUpgradeStarted      </td><td>                      </td></tr>\\n<tr><td>BUS_EVENT_TYPE_REFERRAL_PROGRAM_ENDED          </td><td>mising from settings.py</td><td>ReferralProgramEnded        </td><td>                      </td></tr>\\n<tr><td>BUS_EVENT_TYPE_REFEREE_JOINED_TEAM             </td><td>mising from settings.py</td><td>RefereeJoinedTeam           </td><td>                      </td></tr>\\n<tr><td>BUS_EVENT_TYPE_ERC20_MULTI_SIG_SIGNER_ADDED    </td><td>named differently      </td><td>Erc20MultiSigSignerAdded    </td><td>ERC20SignerAddEvent   </td></tr>\\n<tr><td>BUS_EVENT_TYPE_ASSET                           </td><td>mising from settings.py</td><td>Asset                       </td><td>                      </td></tr>\\n<tr><td>BUS_EVENT_TYPE_LEDGER_MOVEMENTS                </td><td>named differently      </td><td>LedgerMovements             </td><td>Txfer                 </td></tr>\\n<tr><td>BUS_EVENT_TYPE_PROTOCOL_UPGRADE_PROPOSAL       </td><td>mising from settings.py</td><td>ProtocolUpgradeProposal     </td><td>                      </td></tr>\\n<tr><td>BUS_EVENT_TYPE_PARTY_ACTIVITY_STREAK           </td><td>mising from settings.py</td><td>PartyActivityStreak         </td><td>                      </td></tr>\\n<tr><td>BUS_EVENT_TYPE_DISTRESSED_ORDERS_CLOSED        </td><td>mising from settings.py</td><td>DistressedOrdersClosed      </td><td>                      </td></tr>\\n<tr><td>BUS_EVENT_TYPE_NETWORK_PARAMETER               </td><td>named differently      </td><td>NetworkParameter            </td><td>NetworkParam          </td></tr>\\n<tr><td>BUS_EVENT_TYPE_CHECKPOINT                      </td><td>mising from settings.py</td><td>Checkpoint                  </td><td>                      </td></tr>\\n<tr><td>BUS_EVENT_TYPE_REFEREE_JOINED_REFERRAL_SET     </td><td>mising from settings.py</td><td>RefereeJoinedReferralSet    </td><td>                      </td></tr>\\n<tr><td>BUS_EVENT_TYPE_SNAPSHOT_TAKEN                  </td><td>mising from settings.py</td><td>SnapshotTaken               </td><td>                      </td></tr>\\n<tr><td>BUS_EVENT_TYPE_TEAM_CREATED                    </td><td>mising from settings.py</td><td>TeamCreated                 </td><td>                      </td></tr>\\n<tr><td>BUS_EVENT_TYPE_SETTLE_MARKET                   </td><td>mising from settings.py</td><td>SettleMarket                </td><td>                      </td></tr>\\n</tbody>\\n</table>'"
      ]
     },
     "execution_count": 24,
     "metadata": {},
     "output_type": "execute_result"
    }
   ],
   "source": [
    "from vega.events.v1 import events_pb2 \n",
    "from settings import busEventTypeDict\n",
    "\n",
    "\n",
    "\n",
    "new = {k: nice_name(k) for k,_ in events_pb2.BusEventType.items()}\n",
    "old = { pv['Name']: pn for pn, pv in busEventTypeDict.items()}\n",
    "\n",
    "rows = []\n",
    "for k in set().union(new.keys(), old.keys()):\n",
    "    new_val = new.get(k, None)\n",
    "    old_val = old.get(k, None)\n",
    "\n",
    "    gripe = \"mising from grpc\" if new_val is None else None\n",
    "    gripe = \"mising from settings.py\" if old_val is None else gripe\n",
    "    gripe = \"named differently\" if (gripe is None) and (old_val != new_val) else gripe\n",
    "\n",
    "    if gripe is not None:\n",
    "        rows.append([k, gripe, new_val, old_val])\n",
    "    \n",
    "table = tabulate.tabulate(rows, tablefmt='html', headers=[\"Name\", \"Gripe\", \"Proposed\", \"Current\"])\n",
    "table\n"
   ]
  }
 ],
 "metadata": {
  "kernelspec": {
   "display_name": ".venv",
   "language": "python",
   "name": "python3"
  },
  "language_info": {
   "codemirror_mode": {
    "name": "ipython",
    "version": 3
   },
   "file_extension": ".py",
   "mimetype": "text/x-python",
   "name": "python",
   "nbconvert_exporter": "python",
   "pygments_lexer": "ipython3",
   "version": "3.11.4"
  },
  "orig_nbformat": 4
 },
 "nbformat": 4,
 "nbformat_minor": 2
}
